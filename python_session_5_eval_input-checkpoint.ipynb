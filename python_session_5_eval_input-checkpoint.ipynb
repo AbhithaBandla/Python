{
 "cells": [
  {
   "cell_type": "code",
   "execution_count": 1,
   "id": "ea9903c5-9e26-40a9-9aba-581270ae0311",
   "metadata": {},
   "outputs": [],
   "source": [
    "num1=100\n",
    "num2=200\n",
    "add=num1+num2"
   ]
  },
  {
   "cell_type": "markdown",
   "id": "a6f90f4c-1ce5-47b0-a5f6-00671586d701",
   "metadata": {},
   "source": [
    "**input**"
   ]
  },
  {
   "cell_type": "markdown",
   "id": "e3fda556-2e19-4f1f-bf3c-75d0fc2afb55",
   "metadata": {},
   "source": [
    "- input keyword is used to take the values from user"
   ]
  },
  {
   "cell_type": "code",
   "execution_count": 5,
   "id": "1a70ff68-e41f-463b-a725-566b54fcef6b",
   "metadata": {},
   "outputs": [
    {
     "name": "stdin",
     "output_type": "stream",
     "text": [
      " python\n"
     ]
    },
    {
     "data": {
      "text/plain": [
       "'python'"
      ]
     },
     "execution_count": 5,
     "metadata": {},
     "output_type": "execute_result"
    }
   ],
   "source": [
    "input()"
   ]
  },
  {
   "cell_type": "code",
   "execution_count": 7,
   "id": "39281b10-1b31-4cc9-8227-06b0d3a7550b",
   "metadata": {},
   "outputs": [],
   "source": [
    "a=10"
   ]
  },
  {
   "cell_type": "code",
   "execution_count": 9,
   "id": "6b3ed503-7015-44c0-8670-0f99e5297b0d",
   "metadata": {},
   "outputs": [
    {
     "name": "stdin",
     "output_type": "stream",
     "text": [
      "enter the number 100\n"
     ]
    },
    {
     "data": {
      "text/plain": [
       "'100'"
      ]
     },
     "execution_count": 9,
     "metadata": {},
     "output_type": "execute_result"
    }
   ],
   "source": [
    "input(\"enter the number\")"
   ]
  },
  {
   "cell_type": "code",
   "execution_count": 11,
   "id": "84c05609-9186-4bf3-a59d-ae8ab358b1f9",
   "metadata": {},
   "outputs": [
    {
     "name": "stdin",
     "output_type": "stream",
     "text": [
      " 1\n"
     ]
    },
    {
     "data": {
      "text/plain": [
       "'1'"
      ]
     },
     "execution_count": 11,
     "metadata": {},
     "output_type": "execute_result"
    }
   ],
   "source": [
    "input()"
   ]
  },
  {
   "cell_type": "code",
   "execution_count": null,
   "id": "0f11711e-81cd-4949-8566-2968f8f39d6d",
   "metadata": {},
   "outputs": [],
   "source": [
    "q=2\n",
    "q"
   ]
  },
  {
   "cell_type": "code",
   "execution_count": 13,
   "id": "b69e2737-22b3-4e97-8b14-bf0d9fd730cd",
   "metadata": {},
   "outputs": [
    {
     "name": "stdin",
     "output_type": "stream",
     "text": [
      "enter the number 10\n",
      "enter the number 20\n",
      "enter the number 30\n"
     ]
    },
    {
     "data": {
      "text/plain": [
       "'30'"
      ]
     },
     "execution_count": 13,
     "metadata": {},
     "output_type": "execute_result"
    }
   ],
   "source": [
    "input(\"enter the number\")\n",
    "input(\"enter the number\")\n",
    "input(\"enter the number\")"
   ]
  },
  {
   "cell_type": "code",
   "execution_count": 15,
   "id": "55d14da4-6ca8-4a06-a700-9e9add72a647",
   "metadata": {},
   "outputs": [
    {
     "name": "stdin",
     "output_type": "stream",
     "text": [
      "enter the number1: 100\n",
      "enter the number2: 200\n"
     ]
    }
   ],
   "source": [
    "num1=input(\"enter the number1:\")\n",
    "num2=input(\"enter the number2:\")"
   ]
  },
  {
   "cell_type": "code",
   "execution_count": 18,
   "id": "720d92bd-f0ef-4b93-91b8-c928181a7a02",
   "metadata": {},
   "outputs": [
    {
     "data": {
      "text/plain": [
       "'100'"
      ]
     },
     "execution_count": 18,
     "metadata": {},
     "output_type": "execute_result"
    }
   ],
   "source": [
    "num1"
   ]
  },
  {
   "cell_type": "markdown",
   "id": "fb6ee8eb-77c1-4cb1-bcef-325625cc4e34",
   "metadata": {},
   "source": [
    "**Note**\n",
    "- Int always give the string data type only\n",
    "\n",
    "- In order to perform math calculations we need to convert into numerical format i.e. int or float"
   ]
  },
  {
   "cell_type": "code",
   "execution_count": 22,
   "id": "a96c9bb7-0aca-4469-817b-56a943fea1b6",
   "metadata": {},
   "outputs": [
    {
     "name": "stdin",
     "output_type": "stream",
     "text": [
      "enter a number1: 90\n",
      "enter a number2: 80\n"
     ]
    },
    {
     "name": "stdout",
     "output_type": "stream",
     "text": [
      "The addition of 90 and 80 is 170\n"
     ]
    }
   ],
   "source": [
    "n1=int(input(\"enter a number1:\"))\n",
    "n2=int(input(\"enter a number2:\"))\n",
    "add=n1+n2\n",
    "print(f\"The addition of {n1} and {n2} is {add}\")"
   ]
  },
  {
   "cell_type": "code",
   "execution_count": 26,
   "id": "96e923b9-8ac8-493a-bcd2-045e64536306",
   "metadata": {},
   "outputs": [
    {
     "name": "stdin",
     "output_type": "stream",
     "text": [
      "enter the num1: 10\n",
      "enter the num2: 20\n"
     ]
    },
    {
     "data": {
      "text/plain": [
       "300"
      ]
     },
     "execution_count": 26,
     "metadata": {},
     "output_type": "execute_result"
    }
   ],
   "source": [
    "n1=input(\"enter the num1:\") #num1='100'\n",
    "n2=input(\"enter the num2:\") #num2='200\n",
    "add=int(num1)+int(num2)\n",
    "add\n"
   ]
  },
  {
   "cell_type": "markdown",
   "id": "8b5781f1-9c05-4f4e-89b0-bea58debefc1",
   "metadata": {},
   "source": [
    "**eval**\n",
    "\n",
    "- eval means evaluate\n",
    "\n",
    "- eval will take the whatever the number we enter, eval will convert to corresponding data type"
   ]
  },
  {
   "cell_type": "code",
   "execution_count": 30,
   "id": "9601c9b3-aa0e-4b4e-a213-c5e789682d88",
   "metadata": {},
   "outputs": [
    {
     "name": "stdin",
     "output_type": "stream",
     "text": [
      "num1: 1\n",
      "num2: 2\n"
     ]
    },
    {
     "name": "stdout",
     "output_type": "stream",
     "text": [
      "The addition of1 and2 is 3\n"
     ]
    }
   ],
   "source": [
    "n1=eval(input(\"num1:\"))\n",
    "n2=eval(input(\"num2:\"))\n",
    "add=n1+n2\n",
    "print(f\"The addition of{n1} and{n2} is {add}\")"
   ]
  },
  {
   "cell_type": "code",
   "execution_count": null,
   "id": "37905b1e-c8d8-4607-b374-8bccf3d0741d",
   "metadata": {},
   "outputs": [],
   "source": [
    "#wap ask the user enter 3 numbers calculate average\n",
    "#wap ask the user enter the 2 numbers find the subtraction,addition,multiplication\n",
    "#wap ask the user enter radius values find the area of the circle\n",
    "#wap ask theuser bill amount,\n",
    "#ask the user how much tip you want pay in percentage\n",
    "#calculate totalbill\n",
    "\n",
    "#wap ask the user bill amount in dollars\n",
    "#ask the user onedollar\n",
    "#print the bill amount in rupees\n",
    "\n",
    "#wap ask the user enter base height calculate area of the triangle\n",
    "#wap ask the user enter length and breadth calculate the area of the circle"
   ]
  },
  {
   "cell_type": "code",
   "execution_count": 32,
   "id": "fe072e95-fc42-4407-909b-5274b26a3ada",
   "metadata": {},
   "outputs": [
    {
     "name": "stdin",
     "output_type": "stream",
     "text": [
      "num1: 2\n",
      "num2: 2\n",
      "num3: 2\n"
     ]
    },
    {
     "name": "stdout",
     "output_type": "stream",
     "text": [
      "The average of 2,2 and 2 is 3.0\n"
     ]
    }
   ],
   "source": [
    "n1=eval(input(\"num1:\"))\n",
    "n2=eval(input(\"num2:\"))\n",
    "n3=eval(input(\"num3:\"))\n",
    "n=(n1+n2+n3)/2\n",
    "print(f\"The average of {n1},{n2} and {n3} is {n}\")"
   ]
  },
  {
   "cell_type": "code",
   "execution_count": 38,
   "id": "c796b250-0482-41a8-9a66-f6c52fc76c05",
   "metadata": {},
   "outputs": [
    {
     "name": "stdin",
     "output_type": "stream",
     "text": [
      "enter the number1: 200\n",
      "enter the number2: 100\n"
     ]
    },
    {
     "name": "stdout",
     "output_type": "stream",
     "text": [
      "The subtraction of 200 and 100 is 100\n",
      "The addition of 200 and 100 is 300\n",
      "The multiplication of 200 and 100 is 20000\n"
     ]
    }
   ],
   "source": [
    "num1=eval(input(\"enter the number1:\"))\n",
    "num2=eval(input(\"enter the number2:\"))\n",
    "subtraction=num1-num2\n",
    "addition=num1+num2\n",
    "multiplication=num1*num2\n",
    "print(f\"The subtraction of {num1} and {num2} is {subtraction}\")\n",
    "print(f\"The addition of {num1} and {num2} is {addition}\")\n",
    "print(f\"The multiplication of {num1} and {num2} is {multiplication}\")"
   ]
  },
  {
   "cell_type": "code",
   "execution_count": null,
   "id": "ce111ae0-0d84-4ec2-bbdf-1b43bcbb131f",
   "metadata": {},
   "outputs": [],
   "source": []
  }
 ],
 "metadata": {
  "kernelspec": {
   "display_name": "Python 3 (ipykernel)",
   "language": "python",
   "name": "python3"
  },
  "language_info": {
   "codemirror_mode": {
    "name": "ipython",
    "version": 3
   },
   "file_extension": ".py",
   "mimetype": "text/x-python",
   "name": "python",
   "nbconvert_exporter": "python",
   "pygments_lexer": "ipython3",
   "version": "3.11.7"
  }
 },
 "nbformat": 4,
 "nbformat_minor": 5
}
