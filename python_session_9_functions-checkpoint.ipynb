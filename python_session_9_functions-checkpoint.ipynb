{
 "cells": [
  {
   "cell_type": "code",
   "execution_count": null,
   "id": "a6518312-53eb-4796-85ee-5a55d9979bee",
   "metadata": {},
   "outputs": [],
   "source": [
    "**Functions**"
   ]
  },
  {
   "cell_type": "markdown",
   "id": "e866f9eb-57c7-4ad6-88b7-84a0d1a730b4",
   "metadata": {},
   "source": [
    "- A block of code which we can use many times"
   ]
  },
  {
   "cell_type": "markdown",
   "id": "71a722fb-68f6-4916-bf72-f046966f5524",
   "metadata": {},
   "source": [
    "**Functions without arguments**"
   ]
  },
  {
   "cell_type": "code",
   "execution_count": null,
   "id": "296bd2f6-4388-4c8f-bfbc-cfdc86769110",
   "metadata": {},
   "outputs": [],
   "source": [
    "def <function_name>():\n",
    "    codelines"
   ]
  },
  {
   "cell_type": "code",
   "execution_count": 9,
   "id": "6740430f-44bf-4008-ae03-832c71fae0fd",
   "metadata": {},
   "outputs": [],
   "source": [
    "def addition():\n",
    "    num1=10\n",
    "    num2=20\n",
    "    add=num1+num2\n",
    "    print(add)"
   ]
  },
  {
   "cell_type": "code",
   "execution_count": 5,
   "id": "13660f09-cb66-4290-aba7-ae6e24ad49c6",
   "metadata": {},
   "outputs": [],
   "source": [
    "# dunction name: addition\n",
    "# in order to execute code lines \n",
    "# we need to call the function"
   ]
  },
  {
   "cell_type": "code",
   "execution_count": 11,
   "id": "e65eae94-f979-44f0-96ae-480be9b8de7e",
   "metadata": {},
   "outputs": [
    {
     "name": "stdout",
     "output_type": "stream",
     "text": [
      "30\n"
     ]
    }
   ],
   "source": [
    "addition()"
   ]
  },
  {
   "cell_type": "code",
   "execution_count": 13,
   "id": "4acf94a4-cc0c-4e1f-8625-8b6312e01bb7",
   "metadata": {},
   "outputs": [
    {
     "name": "stdout",
     "output_type": "stream",
     "text": [
      "num1 is: 10\n",
      "num2 is: 20\n",
      "the addition of 10 and 20 is: 30\n"
     ]
    }
   ],
   "source": [
    "def addition():\n",
    "    num1=10\n",
    "    print(\"num1 is:\",num1)\n",
    "    num2=20\n",
    "    print(\"num2 is:\",num2)\n",
    "    add=num1+num2\n",
    "    print(f\"the addition of {num1} and {num2} is: {add}\")\n",
    "addition()"
   ]
  },
  {
   "cell_type": "markdown",
   "id": "9c0b3d00-1d35-459a-8956-991d700230b9",
   "metadata": {},
   "source": [
    "**Note**\n",
    "\n",
    "- Function name can be anything\n",
    "\n",
    "- same rules applicable as variable rules\n",
    "\n",
    "- whenever you create the function make sure the indentation correctly\n",
    "\n",
    "- starting with keyword, ending with colon then code lines starting with indentation\n",
    "\n",
    "- brackets means functions\n",
    "\n",
    "- never missed the brackets whenever you call the function\n",
    "\n",
    "- If you want to execute the code we need to call the function\n",
    "\n",
    "- while you are calling the function if you see function or bound method\n",
    "\n",
    "- which means you missed the brackets"
   ]
  },
  {
   "cell_type": "markdown",
   "id": "8e5a4186-b256-4de8-8ad7-4eca7e0a6f1b",
   "metadata": {},
   "source": [
    "## whenever we define the function it does not throw any error untill unless we call the function"
   ]
  },
  {
   "cell_type": "code",
   "execution_count": 20,
   "id": "0382694a-169d-4a7d-abcb-a2b4396e3eea",
   "metadata": {},
   "outputs": [],
   "source": [
    "# write a program to create the function for average \n",
    "# write normal average code \n",
    "# then implement function"
   ]
  },
  {
   "cell_type": "code",
   "execution_count": 28,
   "id": "85e66474-32d2-4411-9887-93486f71677a",
   "metadata": {},
   "outputs": [
    {
     "name": "stdin",
     "output_type": "stream",
     "text": [
      "enter the number: 1\n",
      "enter the number: 2\n",
      "enter the number: 3\n"
     ]
    },
    {
     "name": "stdout",
     "output_type": "stream",
     "text": [
      "average: 2.0\n"
     ]
    }
   ],
   "source": [
    "# wap ask the user enter 3 numbers calculate average\n",
    "def avg():\n",
    "    n1=eval(input(\"enter the number:\"))\n",
    "    n2=eval(input(\"enter the number:\"))\n",
    "    n3=eval(input(\"enter the number:\"))\n",
    "    average=(n1+n2+n3)/3\n",
    "    print(f\"average: {average}\")\n",
    "average()\n",
    "\n"
   ]
  },
  {
   "cell_type": "markdown",
   "id": "af64648a-c859-4c02-b7b2-af878d67a73f",
   "metadata": {},
   "source": [
    "# function name and variable name should not be same"
   ]
  },
  {
   "cell_type": "code",
   "execution_count": 35,
   "id": "045f767c-2659-46e0-a142-9f8a1632618b",
   "metadata": {},
   "outputs": [
    {
     "name": "stdin",
     "output_type": "stream",
     "text": [
      "enter the radius: 2\n"
     ]
    },
    {
     "name": "stdout",
     "output_type": "stream",
     "text": [
      "area of the circle: 12.56\n"
     ]
    }
   ],
   "source": [
    "# wap ask the user radius values find the area of the circle\n",
    "def radius():\n",
    "    r=eval(input(\"enter the radius:\"))\n",
    "    pi=3.14\n",
    "    area=pi*r*r\n",
    "    print(f\"area of the circle: {area}\")\n",
    "radius()\n"
   ]
  },
  {
   "cell_type": "code",
   "execution_count": 39,
   "id": "09329bf8-a5e1-4990-8965-f180d439d9f7",
   "metadata": {},
   "outputs": [
    {
     "name": "stdin",
     "output_type": "stream",
     "text": [
      "enter the amount: 1000\n",
      "enter the percentage: 10\n"
     ]
    },
    {
     "name": "stdout",
     "output_type": "stream",
     "text": [
      "bill amount: 1001.0\n"
     ]
    }
   ],
   "source": [
    "def billamount():\n",
    "    bill=eval(input(\"enter the amount:\"))\n",
    "    tip=eval(input(\"enter the percentage:\"))\n",
    "    bill_amount=tip/bill*100\n",
    "    total_amount=bill+bill_amount\n",
    "    print(f\"bill amount: {total_amount}\")\n",
    "billamount()"
   ]
  },
  {
   "cell_type": "code",
   "execution_count": 41,
   "id": "7cb9759b-7b4f-4e50-9969-361f9501ceca",
   "metadata": {},
   "outputs": [
    {
     "ename": "SyntaxError",
     "evalue": "unterminated string literal (detected at line 2) (1431585828.py, line 2)",
     "output_type": "error",
     "traceback": [
      "\u001b[1;36m  Cell \u001b[1;32mIn[41], line 2\u001b[1;36m\u001b[0m\n\u001b[1;33m    base=eval(input(\"enter the\u001b[0m\n\u001b[1;37m                    ^\u001b[0m\n\u001b[1;31mSyntaxError\u001b[0m\u001b[1;31m:\u001b[0m unterminated string literal (detected at line 2)\n"
     ]
    }
   ],
   "source": [
    "def area():\n",
    "    base=eval(input(\"enter the "
   ]
  },
  {
   "cell_type": "markdown",
   "id": "2069c39c-a091-4dd2-9022-75238676745b",
   "metadata": {},
   "source": [
    "- while we are defining function if nothing mentioned means\n",
    "\n",
    "- it is called function without arguments"
   ]
  },
  {
   "cell_type": "markdown",
   "id": "b70fd853-ae18-4a81-836e-6d62f41a7333",
   "metadata": {},
   "source": [
    "**Functions with arguments**\n",
    "\n",
    "- First look at how many arguments or variables are there\n",
    "\n",
    "- In that how many input variables are there \n",
    "\n",
    "- How many output variables are there\n",
    "\n",
    "- Input variables means user can defined\n",
    "\n",
    "- output variables means python gives the output\n",
    "\n",
    "- we can use only inpu variables as arguments inside the function"
   ]
  },
  {
   "cell_type": "code",
   "execution_count": 47,
   "id": "c02159a3-f072-49d2-99f5-4a7cef656171",
   "metadata": {},
   "outputs": [
    {
     "name": "stdout",
     "output_type": "stream",
     "text": [
      "the addition of 10 and 20 is: 30\n"
     ]
    }
   ],
   "source": [
    "def addition2(num1,num2):\n",
    "    add=num1+num2\n",
    "    print(f\"the addition of {num1} and {num2} is: {add}\")\n",
    "addition2(10,20)"
   ]
  },
  {
   "cell_type": "code",
   "execution_count": 51,
   "id": "a912aadd-f90b-428b-bc09-dba71d4c1223",
   "metadata": {},
   "outputs": [
    {
     "name": "stdout",
     "output_type": "stream",
     "text": [
      "average: 2.0\n"
     ]
    }
   ],
   "source": [
    "def avg(n1,n2,n3):\n",
    "    average=(n1+n2+n3)/3\n",
    "    print(f\"average: {average}\")\n",
    "avg(n1,n2,n3)\n"
   ]
  },
  {
   "cell_type": "code",
   "execution_count": 57,
   "id": "07d78a25-2160-45d9-9a30-4f7ee6a4122f",
   "metadata": {},
   "outputs": [
    {
     "name": "stdout",
     "output_type": "stream",
     "text": [
      "area of the circle: 12.56\n"
     ]
    }
   ],
   "source": [
    "def radius(r):\n",
    "    pi=3.14\n",
    "    area=pi*r*r\n",
    "    print(f\"area of the circle: {area}\")\n",
    "radius(2)\n"
   ]
  },
  {
   "cell_type": "code",
   "execution_count": null,
   "id": "3759995e-a0af-4dce-be23-2c754557ca1b",
   "metadata": {},
   "outputs": [],
   "source": []
  }
 ],
 "metadata": {
  "kernelspec": {
   "display_name": "Python 3 (ipykernel)",
   "language": "python",
   "name": "python3"
  },
  "language_info": {
   "codemirror_mode": {
    "name": "ipython",
    "version": 3
   },
   "file_extension": ".py",
   "mimetype": "text/x-python",
   "name": "python",
   "nbconvert_exporter": "python",
   "pygments_lexer": "ipython3",
   "version": "3.11.7"
  }
 },
 "nbformat": 4,
 "nbformat_minor": 5
}
